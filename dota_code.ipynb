{
 "cells": [
  {
   "cell_type": "markdown",
   "metadata": {},
   "source": [
    "# Dota数据集实验\n",
    "实验内容：比较七种模型(CART、AdaBoost、GBDT、Random Forest、Extra Tree、XGBoost、LightGBM)在dota数据集上的表现及耗时。\n",
    "\n",
    "实验环境：Win10、Python3.6\n",
    "\n",
    "主要库版本：\n",
    "- numpy 1.18.2\n",
    "- pandas 1.1.3\n",
    "- scikit-learn 0.23.2\n",
    "- xgboost 1.2.1\n",
    "- lightgbm 3.0.0.99\n"
   ]
  },
  {
   "cell_type": "code",
   "execution_count": 1,
   "metadata": {
    "ExecuteTime": {
     "end_time": "2020-11-22T08:48:55.660991Z",
     "start_time": "2020-11-22T08:48:54.030004Z"
    }
   },
   "outputs": [],
   "source": [
    "# import\n",
    "import numpy as np\n",
    "import pandas as pd\n",
    "from sklearn import datasets\n",
    "from sklearn.model_selection import train_test_split\n",
    "from sklearn.model_selection import KFold\n",
    "from sklearn.model_selection import cross_val_score\n",
    "from sklearn.metrics import classification_report\n",
    "from sklearn.metrics import confusion_matrix\n",
    "from sklearn.metrics import accuracy_score\n",
    "\n",
    "from sklearn.tree import DecisionTreeClassifier\n",
    "from sklearn.ensemble import AdaBoostClassifier\n",
    "from sklearn.ensemble import GradientBoostingClassifier\n",
    "from sklearn.ensemble import RandomForestClassifier\n",
    "from sklearn.ensemble import ExtraTreesClassifier\n",
    "from xgboost import XGBClassifier\n",
    "from lightgbm import LGBMClassifier\n",
    "\n",
    "from matplotlib import pyplot\n",
    "\n",
    "import time\n",
    "\n",
    "import warnings\n",
    "warnings.filterwarnings(\"ignore\")"
   ]
  },
  {
   "cell_type": "code",
   "execution_count": 2,
   "metadata": {
    "ExecuteTime": {
     "end_time": "2020-11-22T08:48:56.292024Z",
     "start_time": "2020-11-22T08:48:55.705978Z"
    }
   },
   "outputs": [],
   "source": [
    "# 读取数据集\n",
    "dataset_train = pd.read_csv(\"./dota/dota2Train.csv\")\n",
    "dataset_validation = pd.read_csv(\"./dota/dota2Test.csv\")"
   ]
  },
  {
   "cell_type": "code",
   "execution_count": 3,
   "metadata": {
    "ExecuteTime": {
     "end_time": "2020-11-22T08:48:56.541012Z",
     "start_time": "2020-11-22T08:48:56.538012Z"
    }
   },
   "outputs": [],
   "source": [
    "# 常规的数据审查操作\n",
    "#dataset_train.shape\n",
    "#dataset_validation.shape\n",
    "#dataset_train.info()\n",
    "#dataset_validation.info()\n",
    "#dataset_train.head()"
   ]
  },
  {
   "cell_type": "code",
   "execution_count": 4,
   "metadata": {
    "ExecuteTime": {
     "end_time": "2020-11-22T08:48:56.856404Z",
     "start_time": "2020-11-22T08:48:56.851331Z"
    }
   },
   "outputs": [],
   "source": [
    "# 训练集、测试集 划分\n",
    "X_train = dataset_train.values[:, 1:]\n",
    "Y_train = dataset_train.values[:,0]\n",
    "X_validation = dataset_validation.values[:, 1:]\n",
    "Y_validation = dataset_validation.values[:,0]"
   ]
  },
  {
   "cell_type": "code",
   "execution_count": 5,
   "metadata": {
    "ExecuteTime": {
     "end_time": "2020-11-22T08:48:57.893477Z",
     "start_time": "2020-11-22T08:48:57.890498Z"
    }
   },
   "outputs": [],
   "source": [
    "# validation_size = 0.2 # 20%用于test\n",
    "seed = 12 # 随机数的种子，后边每次对算法进行评估前都会重新设置随机数的种子，\n",
    "         # 确保每次对算法评估都使用相同数据集"
   ]
  },
  {
   "cell_type": "code",
   "execution_count": 6,
   "metadata": {
    "ExecuteTime": {
     "end_time": "2020-11-22T08:48:59.086008Z",
     "start_time": "2020-11-22T08:48:59.080005Z"
    }
   },
   "outputs": [],
   "source": [
    "# 算法审查\n",
    "models = {}\n",
    "models['CART'] = DecisionTreeClassifier()\n",
    "models['AdaBoost'] = AdaBoostClassifier()\n",
    "models['GBDT'] = GradientBoostingClassifier()\n",
    "models['RF'] = RandomForestClassifier() \n",
    "models['ETC'] = ExtraTreesClassifier()\n",
    "models['XGBoost'] = XGBClassifier()\n",
    "models['LightGBM'] = LGBMClassifier()"
   ]
  },
  {
   "cell_type": "code",
   "execution_count": 7,
   "metadata": {
    "ExecuteTime": {
     "end_time": "2020-11-22T08:49:00.670877Z",
     "start_time": "2020-11-22T08:49:00.663877Z"
    },
    "scrolled": true
   },
   "outputs": [
    {
     "data": {
      "text/plain": [
       "{'CART': DecisionTreeClassifier(ccp_alpha=0.0, class_weight=None, criterion='gini',\n",
       "                        max_depth=None, max_features=None, max_leaf_nodes=None,\n",
       "                        min_impurity_decrease=0.0, min_impurity_split=None,\n",
       "                        min_samples_leaf=1, min_samples_split=2,\n",
       "                        min_weight_fraction_leaf=0.0, presort='deprecated',\n",
       "                        random_state=None, splitter='best'),\n",
       " 'AdaBoost': AdaBoostClassifier(algorithm='SAMME.R', base_estimator=None, learning_rate=1.0,\n",
       "                    n_estimators=50, random_state=None),\n",
       " 'GBDT': GradientBoostingClassifier(ccp_alpha=0.0, criterion='friedman_mse', init=None,\n",
       "                            learning_rate=0.1, loss='deviance', max_depth=3,\n",
       "                            max_features=None, max_leaf_nodes=None,\n",
       "                            min_impurity_decrease=0.0, min_impurity_split=None,\n",
       "                            min_samples_leaf=1, min_samples_split=2,\n",
       "                            min_weight_fraction_leaf=0.0, n_estimators=100,\n",
       "                            n_iter_no_change=None, presort='deprecated',\n",
       "                            random_state=None, subsample=1.0, tol=0.0001,\n",
       "                            validation_fraction=0.1, verbose=0,\n",
       "                            warm_start=False),\n",
       " 'RF': RandomForestClassifier(bootstrap=True, ccp_alpha=0.0, class_weight=None,\n",
       "                        criterion='gini', max_depth=None, max_features='auto',\n",
       "                        max_leaf_nodes=None, max_samples=None,\n",
       "                        min_impurity_decrease=0.0, min_impurity_split=None,\n",
       "                        min_samples_leaf=1, min_samples_split=2,\n",
       "                        min_weight_fraction_leaf=0.0, n_estimators=100,\n",
       "                        n_jobs=None, oob_score=False, random_state=None,\n",
       "                        verbose=0, warm_start=False),\n",
       " 'ETC': ExtraTreesClassifier(bootstrap=False, ccp_alpha=0.0, class_weight=None,\n",
       "                      criterion='gini', max_depth=None, max_features='auto',\n",
       "                      max_leaf_nodes=None, max_samples=None,\n",
       "                      min_impurity_decrease=0.0, min_impurity_split=None,\n",
       "                      min_samples_leaf=1, min_samples_split=2,\n",
       "                      min_weight_fraction_leaf=0.0, n_estimators=100,\n",
       "                      n_jobs=None, oob_score=False, random_state=None, verbose=0,\n",
       "                      warm_start=False),\n",
       " 'XGBoost': XGBClassifier(base_score=None, booster=None, colsample_bylevel=None,\n",
       "               colsample_bynode=None, colsample_bytree=None, gamma=None,\n",
       "               gpu_id=None, importance_type='gain', interaction_constraints=None,\n",
       "               learning_rate=None, max_delta_step=None, max_depth=None,\n",
       "               min_child_weight=None, missing=nan, monotone_constraints=None,\n",
       "               n_estimators=100, n_jobs=None, num_parallel_tree=None,\n",
       "               objective='binary:logistic', random_state=None, reg_alpha=None,\n",
       "               reg_lambda=None, scale_pos_weight=None, subsample=None,\n",
       "               tree_method=None, validate_parameters=None, verbosity=None),\n",
       " 'LightGBM': LGBMClassifier(boosting_type='gbdt', class_weight=None, colsample_bytree=1.0,\n",
       "                importance_type='split', learning_rate=0.1, max_depth=-1,\n",
       "                min_child_samples=20, min_child_weight=0.001, min_split_gain=0.0,\n",
       "                n_estimators=100, n_jobs=-1, num_leaves=31, objective=None,\n",
       "                random_state=None, reg_alpha=0.0, reg_lambda=0.0, silent=True,\n",
       "                subsample=1.0, subsample_for_bin=200000, subsample_freq=0)}"
      ]
     },
     "execution_count": 7,
     "metadata": {},
     "output_type": "execute_result"
    }
   ],
   "source": [
    "models"
   ]
  },
  {
   "cell_type": "code",
   "execution_count": 8,
   "metadata": {
    "ExecuteTime": {
     "end_time": "2020-11-22T09:11:54.378214Z",
     "start_time": "2020-11-22T08:49:34.312738Z"
    }
   },
   "outputs": [
    {
     "name": "stdout",
     "output_type": "stream",
     "text": [
      "----------------------------------------\n",
      "CART: 0.522391(0.004740)\n",
      "Running time: 16.4 Seconds\n",
      "----------------------------------------\n",
      "AdaBoost: 0.581906(0.004246)\n",
      "Running time: 54.0 Seconds\n",
      "----------------------------------------\n",
      "GBDT: 0.580891(0.005880)\n",
      "Running time: 183. Seconds\n",
      "----------------------------------------\n",
      "RF: 0.573250(0.005072)\n",
      "Running time: 125. Seconds\n",
      "----------------------------------------\n",
      "ETC: 0.571091(0.004681)\n",
      "Running time: 169. Seconds\n",
      "----------------------------------------\n",
      "XGBoost: 0.588986(0.004956)\n",
      "Running time: 29.2 Seconds\n",
      "----------------------------------------\n",
      "LightGBM: 0.593757(0.004672)\n",
      "Running time: 4.77 Seconds\n"
     ]
    }
   ],
   "source": [
    "results_fold = []\n",
    "timeResults = []\n",
    "# k折交叉验证\n",
    "for key in models:\n",
    "    kfold = KFold(n_splits=5, random_state=seed)\n",
    "    start = time.time() # 记录开始时间\n",
    "    cv_results = cross_val_score(models[key], X_train, Y_train, cv = kfold, scoring='accuracy')\n",
    "    end = time.time() # 记录结束时间\n",
    "    results_fold.append(cv_results)\n",
    "    print('-'*40)\n",
    "    print('%s: %f(%f)' %(key, cv_results.mean(), cv_results.std()))\n",
    "    print('Running time: %.4s Seconds'%(end-start))\n",
    "    timeResults.append((end-start))"
   ]
  },
  {
   "cell_type": "code",
   "execution_count": 9,
   "metadata": {
    "ExecuteTime": {
     "end_time": "2020-11-22T09:14:57.135261Z",
     "start_time": "2020-11-22T09:14:57.126262Z"
    }
   },
   "outputs": [
    {
     "data": {
      "text/plain": [
       "[array([0.52590394, 0.52779277, 0.51683756, 0.51656773, 0.52485293]),\n",
       " array([0.57814355, 0.58175931, 0.57722612, 0.58327037, 0.58913055]),\n",
       " array([0.58094981, 0.58478144, 0.5698327 , 0.58219104, 0.58670193]),\n",
       " array([0.57431193, 0.58170534, 0.56621695, 0.57069617, 0.5733175 ]),\n",
       " array([0.57409606, 0.57231516, 0.56389638, 0.56794387, 0.5772033 ]),\n",
       " array([0.59055586, 0.59422558, 0.58165138, 0.5848354 , 0.59366399]),\n",
       " array([0.59087965, 0.5985429 , 0.58866703, 0.59050189, 0.60019429])]"
      ]
     },
     "execution_count": 9,
     "metadata": {},
     "output_type": "execute_result"
    }
   ],
   "source": [
    "results_fold #每行表示对应模型的K折交叉验证的准确率"
   ]
  },
  {
   "cell_type": "code",
   "execution_count": 10,
   "metadata": {
    "ExecuteTime": {
     "end_time": "2020-11-22T09:14:57.461787Z",
     "start_time": "2020-11-22T09:14:57.456783Z"
    }
   },
   "outputs": [
    {
     "data": {
      "text/plain": [
       "[16.44570255279541,\n",
       " 54.05894184112549,\n",
       " 183.27386355400085,\n",
       " 125.99705839157104,\n",
       " 169.34491539001465,\n",
       " 29.204379081726074,\n",
       " 4.776188135147095]"
      ]
     },
     "execution_count": 10,
     "metadata": {},
     "output_type": "execute_result"
    }
   ],
   "source": [
    "timeResults"
   ]
  },
  {
   "cell_type": "code",
   "execution_count": 11,
   "metadata": {
    "ExecuteTime": {
     "end_time": "2020-11-22T09:14:57.873228Z",
     "start_time": "2020-11-22T09:14:57.868217Z"
    }
   },
   "outputs": [
    {
     "data": {
      "text/plain": [
       "array([0.59087965, 0.5985429 , 0.58866703, 0.59050189, 0.60019429])"
      ]
     },
     "execution_count": 11,
     "metadata": {},
     "output_type": "execute_result"
    }
   ],
   "source": [
    "cv_results"
   ]
  },
  {
   "cell_type": "code",
   "execution_count": 12,
   "metadata": {
    "ExecuteTime": {
     "end_time": "2020-11-22T09:16:47.928414Z",
     "start_time": "2020-11-22T09:16:47.726408Z"
    }
   },
   "outputs": [
    {
     "data": {
      "image/png": "[encoded data removed]",
      "text/plain": [
       "<Figure size 432x288 with 1 Axes>"
      ]
     },
     "metadata": {
      "needs_background": "light"
     },
     "output_type": "display_data"
    }
   ],
   "source": [
    "# 折线图比较算法执行时间\n",
    "fig = pyplot.figure()\n",
    "fig.suptitle('Algorithm Comparsion of Time - dota')\n",
    "ax = fig.add_subplot(111)\n",
    "x = range(len(models.keys()))\n",
    "pyplot.plot(x, timeResults, 'o-')\n",
    "pyplot.xticks(x, models.keys())\n",
    "pyplot.ylabel('Seconds')\n",
    "pyplot.savefig('./Algorithm Comparsion of Time - dota.png') # 保存图片\n",
    "pyplot.show()"
   ]
  },
  {
   "cell_type": "code",
   "execution_count": 13,
   "metadata": {
    "ExecuteTime": {
     "end_time": "2020-11-22T09:17:00.025421Z",
     "start_time": "2020-11-22T09:16:59.761820Z"
    }
   },
   "outputs": [
    {
     "data": {
      "image/png": "[encoded data removed]",
      "text/plain": [
       "<Figure size 432x288 with 1 Axes>"
      ]
     },
     "metadata": {
      "needs_background": "light"
     },
     "output_type": "display_data"
    }
   ],
   "source": [
    "# 箱线图比较算法\n",
    "fig = pyplot.figure()\n",
    "fig.suptitle('Algorithm Comparsion of Accuracy - dota')\n",
    "ax = fig.add_subplot(111)\n",
    "pyplot.boxplot(results_fold)\n",
    "ax.set_xticklabels(models.keys())\n",
    "pyplot.savefig('./Algorithm Comparsion of Accuracy - dota.png') # 保存图片\n",
    "pyplot.show()"
   ]
  },
  {
   "cell_type": "code",
   "execution_count": null,
   "metadata": {},
   "outputs": [],
   "source": []
  },
  {
   "cell_type": "code",
   "execution_count": null,
   "metadata": {},
   "outputs": [],
   "source": []
  }
 ],
 "metadata": {
  "kernelspec": {
   "display_name": "Python 3",
   "language": "python",
   "name": "python3"
  },
  "language_info": {
   "codemirror_mode": {
    "name": "ipython",
    "version": 3
   },
   "file_extension": ".py",
   "mimetype": "text/x-python",
   "name": "python",
   "nbconvert_exporter": "python",
   "pygments_lexer": "ipython3",
   "version": "3.6.12"
  },
  "toc": {
   "base_numbering": 1,
   "nav_menu": {},
   "number_sections": false,
   "sideBar": true,
   "skip_h1_title": false,
   "title_cell": "Table of Contents",
   "title_sidebar": "Contents",
   "toc_cell": false,
   "toc_position": {},
   "toc_section_display": true,
   "toc_window_display": false
  },
  "varInspector": {
   "cols": {
    "lenName": 16,
    "lenType": 16,
    "lenVar": 40
   },
   "kernels_config": {
    "python": {
     "delete_cmd_postfix": "",
     "delete_cmd_prefix": "del ",
     "library": "var_list.py",
     "varRefreshCmd": "print(var_dic_list())"
    },
    "r": {
     "delete_cmd_postfix": ") ",
     "delete_cmd_prefix": "rm(",
     "library": "var_list.r",
     "varRefreshCmd": "cat(var_dic_list()) "
    }
   },
   "types_to_exclude": [
    "module",
    "function",
    "builtin_function_or_method",
    "instance",
    "_Feature"
   ],
   "window_display": false
  }
 },
 "nbformat": 4,
 "nbformat_minor": 2
}
