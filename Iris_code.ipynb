{
 "cells": [
  {
   "cell_type": "markdown",
   "metadata": {},
   "source": [
    "# Iris数据集实验\n",
    "实验内容：比较七种模型(CART、AdaBoost、GBDT、Random Forest、Extra Tree、XGBoost、LightGBM)在Iris数据集上的表现及耗时。\n",
    "\n",
    "实验环境：Win10、Python3.6\n",
    "\n",
    "主要库版本：\n",
    "- numpy 1.18.2\n",
    "- pandas 1.1.3\n",
    "- scikit-learn 0.23.2\n",
    "- xgboost 1.2.1\n",
    "- lightgbm 3.0.0.99\n"
   ]
  },
  {
   "cell_type": "code",
   "execution_count": 1,
   "metadata": {
    "ExecuteTime": {
     "end_time": "2020-11-22T08:53:15.580334Z",
     "start_time": "2020-11-22T08:53:13.126036Z"
    }
   },
   "outputs": [],
   "source": [
    "# import\n",
    "import numpy as np\n",
    "import pandas as pd\n",
    "from sklearn import datasets\n",
    "from sklearn.model_selection import train_test_split\n",
    "from sklearn.model_selection import KFold\n",
    "from sklearn.model_selection import cross_val_score\n",
    "from sklearn.metrics import classification_report\n",
    "from sklearn.metrics import confusion_matrix\n",
    "from sklearn.metrics import accuracy_score\n",
    "\n",
    "from sklearn.tree import DecisionTreeClassifier\n",
    "from sklearn.ensemble import AdaBoostClassifier\n",
    "from sklearn.ensemble import GradientBoostingClassifier\n",
    "from sklearn.ensemble import RandomForestClassifier\n",
    "from sklearn.ensemble import ExtraTreesClassifier\n",
    "from xgboost import XGBClassifier\n",
    "from lightgbm import LGBMClassifier\n",
    "\n",
    "from matplotlib import pyplot\n",
    "\n",
    "import time\n",
    "\n",
    "import warnings\n",
    "warnings.filterwarnings(\"ignore\")"
   ]
  },
  {
   "cell_type": "code",
   "execution_count": 2,
   "metadata": {
    "ExecuteTime": {
     "end_time": "2020-11-22T08:53:15.589283Z",
     "start_time": "2020-11-22T08:53:15.582280Z"
    }
   },
   "outputs": [],
   "source": [
    "validation_size = 0.2 # 20%用于test\n",
    "dataset = datasets.load_iris()\n",
    "X = dataset.data\n",
    "Y = dataset.target\n",
    "seed = 12 # 随机数的种子，后边每次对算法进行评估前都会重新设置随机数的种子，\n",
    "         # 确保每次对算法评估都使用相同数据集\n",
    "# X_train，Y_train用于train，X_validation和Y_validation用于test\n",
    "X_train, X_validation, Y_train, Y_validation = train_test_split(X, Y, test_size=validation_size, random_state=seed)"
   ]
  },
  {
   "cell_type": "code",
   "execution_count": 3,
   "metadata": {
    "ExecuteTime": {
     "end_time": "2020-11-22T08:53:15.603313Z",
     "start_time": "2020-11-22T08:53:15.591796Z"
    }
   },
   "outputs": [],
   "source": [
    "# 算法审查\n",
    "models = {}\n",
    "models['CART'] = DecisionTreeClassifier()\n",
    "models['AdaBoost'] = AdaBoostClassifier()\n",
    "models['GBDT'] = GradientBoostingClassifier()\n",
    "models['RF'] = RandomForestClassifier() \n",
    "models['ETC'] = ExtraTreesClassifier()\n",
    "models['XGBoost'] = XGBClassifier()\n",
    "models['LightGBM'] = LGBMClassifier()"
   ]
  },
  {
   "cell_type": "code",
   "execution_count": 4,
   "metadata": {
    "ExecuteTime": {
     "end_time": "2020-11-22T08:53:15.623312Z",
     "start_time": "2020-11-22T08:53:15.605310Z"
    },
    "scrolled": true
   },
   "outputs": [
    {
     "data": {
      "text/plain": [
       "{'CART': DecisionTreeClassifier(ccp_alpha=0.0, class_weight=None, criterion='gini',\n",
       "                        max_depth=None, max_features=None, max_leaf_nodes=None,\n",
       "                        min_impurity_decrease=0.0, min_impurity_split=None,\n",
       "                        min_samples_leaf=1, min_samples_split=2,\n",
       "                        min_weight_fraction_leaf=0.0, presort='deprecated',\n",
       "                        random_state=None, splitter='best'),\n",
       " 'AdaBoost': AdaBoostClassifier(algorithm='SAMME.R', base_estimator=None, learning_rate=1.0,\n",
       "                    n_estimators=50, random_state=None),\n",
       " 'GBDT': GradientBoostingClassifier(ccp_alpha=0.0, criterion='friedman_mse', init=None,\n",
       "                            learning_rate=0.1, loss='deviance', max_depth=3,\n",
       "                            max_features=None, max_leaf_nodes=None,\n",
       "                            min_impurity_decrease=0.0, min_impurity_split=None,\n",
       "                            min_samples_leaf=1, min_samples_split=2,\n",
       "                            min_weight_fraction_leaf=0.0, n_estimators=100,\n",
       "                            n_iter_no_change=None, presort='deprecated',\n",
       "                            random_state=None, subsample=1.0, tol=0.0001,\n",
       "                            validation_fraction=0.1, verbose=0,\n",
       "                            warm_start=False),\n",
       " 'RF': RandomForestClassifier(bootstrap=True, ccp_alpha=0.0, class_weight=None,\n",
       "                        criterion='gini', max_depth=None, max_features='auto',\n",
       "                        max_leaf_nodes=None, max_samples=None,\n",
       "                        min_impurity_decrease=0.0, min_impurity_split=None,\n",
       "                        min_samples_leaf=1, min_samples_split=2,\n",
       "                        min_weight_fraction_leaf=0.0, n_estimators=100,\n",
       "                        n_jobs=None, oob_score=False, random_state=None,\n",
       "                        verbose=0, warm_start=False),\n",
       " 'ETC': ExtraTreesClassifier(bootstrap=False, ccp_alpha=0.0, class_weight=None,\n",
       "                      criterion='gini', max_depth=None, max_features='auto',\n",
       "                      max_leaf_nodes=None, max_samples=None,\n",
       "                      min_impurity_decrease=0.0, min_impurity_split=None,\n",
       "                      min_samples_leaf=1, min_samples_split=2,\n",
       "                      min_weight_fraction_leaf=0.0, n_estimators=100,\n",
       "                      n_jobs=None, oob_score=False, random_state=None, verbose=0,\n",
       "                      warm_start=False),\n",
       " 'XGBoost': XGBClassifier(base_score=None, booster=None, colsample_bylevel=None,\n",
       "               colsample_bynode=None, colsample_bytree=None, gamma=None,\n",
       "               gpu_id=None, importance_type='gain', interaction_constraints=None,\n",
       "               learning_rate=None, max_delta_step=None, max_depth=None,\n",
       "               min_child_weight=None, missing=nan, monotone_constraints=None,\n",
       "               n_estimators=100, n_jobs=None, num_parallel_tree=None,\n",
       "               objective='binary:logistic', random_state=None, reg_alpha=None,\n",
       "               reg_lambda=None, scale_pos_weight=None, subsample=None,\n",
       "               tree_method=None, validate_parameters=None, verbosity=None),\n",
       " 'LightGBM': LGBMClassifier(boosting_type='gbdt', class_weight=None, colsample_bytree=1.0,\n",
       "                importance_type='split', learning_rate=0.1, max_depth=-1,\n",
       "                min_child_samples=20, min_child_weight=0.001, min_split_gain=0.0,\n",
       "                n_estimators=100, n_jobs=-1, num_leaves=31, objective=None,\n",
       "                random_state=None, reg_alpha=0.0, reg_lambda=0.0, silent=True,\n",
       "                subsample=1.0, subsample_for_bin=200000, subsample_freq=0)}"
      ]
     },
     "execution_count": 4,
     "metadata": {},
     "output_type": "execute_result"
    }
   ],
   "source": [
    "models # 打印模型参数"
   ]
  },
  {
   "cell_type": "code",
   "execution_count": 5,
   "metadata": {
    "ExecuteTime": {
     "end_time": "2020-11-22T08:53:22.199217Z",
     "start_time": "2020-11-22T08:53:15.625311Z"
    }
   },
   "outputs": [
    {
     "name": "stdout",
     "output_type": "stream",
     "text": [
      "----------------------------------------\n",
      "CART: 0.941667(0.053359)\n",
      "Running time: 0.016000 Seconds\n",
      "----------------------------------------\n",
      "AdaBoost: 0.925000(0.058333)\n",
      "Running time: 0.797844 Seconds\n",
      "----------------------------------------\n",
      "GBDT: 0.933333(0.050000)\n",
      "Running time: 1.700331 Seconds\n",
      "----------------------------------------\n",
      "RF: 0.941667(0.053359)\n",
      "Running time: 1.515951 Seconds\n",
      "----------------------------------------\n",
      "ETC: 0.958333(0.041667)\n",
      "Running time: 1.025843 Seconds\n",
      "----------------------------------------\n",
      "XGBoost: 0.950000(0.055277)\n",
      "Running time: 1.349020 Seconds\n",
      "----------------------------------------\n",
      "LightGBM: 0.958333(0.041667)\n",
      "Running time: 0.276999 Seconds\n"
     ]
    }
   ],
   "source": [
    "results = []\n",
    "timeResults = []\n",
    "# k折交叉验证\n",
    "for key in models:\n",
    "    kfold = KFold(n_splits=10, random_state=seed)\n",
    "    start = time.time() # 记录开始时间\n",
    "    cv_results = cross_val_score(models[key], X_train, Y_train, cv = kfold, scoring='accuracy')\n",
    "    end = time.time() # 记录结束时间\n",
    "    results.append(cv_results)\n",
    "    print('-'*40)\n",
    "    print('%s: %f(%f)' %(key, cv_results.mean(), cv_results.std()))\n",
    "    print('Running time: %f Seconds'%(end-start))\n",
    "    timeResults.append((end-start))"
   ]
  },
  {
   "cell_type": "code",
   "execution_count": 6,
   "metadata": {
    "ExecuteTime": {
     "end_time": "2020-11-22T08:53:22.209218Z",
     "start_time": "2020-11-22T08:53:22.201218Z"
    },
    "scrolled": true
   },
   "outputs": [
    {
     "data": {
      "text/plain": [
       "[array([1.        , 0.91666667, 0.83333333, 0.91666667, 1.        ,\n",
       "        0.91666667, 0.91666667, 1.        , 0.91666667, 1.        ]),\n",
       " array([1.        , 0.91666667, 0.83333333, 0.91666667, 1.        ,\n",
       "        0.91666667, 0.91666667, 1.        , 0.91666667, 0.83333333]),\n",
       " array([1.        , 0.91666667, 0.83333333, 0.91666667, 1.        ,\n",
       "        0.91666667, 0.91666667, 1.        , 0.91666667, 0.91666667]),\n",
       " array([1.        , 0.91666667, 0.83333333, 0.91666667, 1.        ,\n",
       "        0.91666667, 1.        , 1.        , 0.91666667, 0.91666667]),\n",
       " array([1.        , 1.        , 0.91666667, 0.91666667, 1.        ,\n",
       "        0.91666667, 1.        , 1.        , 0.91666667, 0.91666667]),\n",
       " array([1.        , 0.91666667, 0.83333333, 0.91666667, 1.        ,\n",
       "        0.91666667, 1.        , 1.        , 0.91666667, 1.        ]),\n",
       " array([1.        , 0.91666667, 0.91666667, 0.91666667, 1.        ,\n",
       "        0.91666667, 1.        , 1.        , 0.91666667, 1.        ])]"
      ]
     },
     "execution_count": 6,
     "metadata": {},
     "output_type": "execute_result"
    }
   ],
   "source": [
    "results #每行表示对应模型的K折交叉验证的准确率"
   ]
  },
  {
   "cell_type": "code",
   "execution_count": 7,
   "metadata": {
    "ExecuteTime": {
     "end_time": "2020-11-22T08:53:22.224241Z",
     "start_time": "2020-11-22T08:53:22.213244Z"
    }
   },
   "outputs": [
    {
     "data": {
      "text/plain": [
       "[0.015999555587768555,\n",
       " 0.7978436946868896,\n",
       " 1.7003309726715088,\n",
       " 1.5159509181976318,\n",
       " 1.0258429050445557,\n",
       " 1.3490197658538818,\n",
       " 0.27699947357177734]"
      ]
     },
     "execution_count": 7,
     "metadata": {},
     "output_type": "execute_result"
    }
   ],
   "source": [
    "timeResults"
   ]
  },
  {
   "cell_type": "code",
   "execution_count": 8,
   "metadata": {
    "ExecuteTime": {
     "end_time": "2020-11-22T08:53:22.232241Z",
     "start_time": "2020-11-22T08:53:22.226241Z"
    },
    "scrolled": true
   },
   "outputs": [
    {
     "data": {
      "text/plain": [
       "array([1.        , 0.91666667, 0.91666667, 0.91666667, 1.        ,\n",
       "       0.91666667, 1.        , 1.        , 0.91666667, 1.        ])"
      ]
     },
     "execution_count": 8,
     "metadata": {},
     "output_type": "execute_result"
    }
   ],
   "source": [
    "cv_results"
   ]
  },
  {
   "cell_type": "code",
   "execution_count": 9,
   "metadata": {
    "ExecuteTime": {
     "end_time": "2020-11-22T08:53:22.415528Z",
     "start_time": "2020-11-22T08:53:22.233240Z"
    },
    "scrolled": true
   },
   "outputs": [
    {
     "data": {
      "image/png": "[encoded data removed]",
      "text/plain": [
       "<Figure size 432x288 with 1 Axes>"
      ]
     },
     "metadata": {
      "needs_background": "light"
     },
     "output_type": "display_data"
    }
   ],
   "source": [
    "# 折线图比较算法执行时间\n",
    "fig = pyplot.figure()\n",
    "fig.suptitle('Algorithm Comparsion of Time - Iris')\n",
    "ax = fig.add_subplot(111)\n",
    "x = range(len(models.keys()))\n",
    "pyplot.plot(x, timeResults, 'o-')\n",
    "pyplot.xticks(x, models.keys())\n",
    "pyplot.ylabel('Seconds')\n",
    "pyplot.savefig('./Algorithm Comparsion of Time - Iris.png') # 保存图片\n",
    "pyplot.show()"
   ]
  },
  {
   "cell_type": "code",
   "execution_count": 10,
   "metadata": {
    "ExecuteTime": {
     "end_time": "2020-11-22T08:53:22.422554Z",
     "start_time": "2020-11-22T08:53:22.417570Z"
    }
   },
   "outputs": [
    {
     "data": {
      "text/plain": [
       "[array([1.        , 0.91666667, 0.83333333, 0.91666667, 1.        ,\n",
       "        0.91666667, 0.91666667, 1.        , 0.91666667, 1.        ]),\n",
       " array([1.        , 0.91666667, 0.83333333, 0.91666667, 1.        ,\n",
       "        0.91666667, 0.91666667, 1.        , 0.91666667, 0.83333333]),\n",
       " array([1.        , 0.91666667, 0.83333333, 0.91666667, 1.        ,\n",
       "        0.91666667, 0.91666667, 1.        , 0.91666667, 0.91666667]),\n",
       " array([1.        , 0.91666667, 0.83333333, 0.91666667, 1.        ,\n",
       "        0.91666667, 1.        , 1.        , 0.91666667, 0.91666667]),\n",
       " array([1.        , 1.        , 0.91666667, 0.91666667, 1.        ,\n",
       "        0.91666667, 1.        , 1.        , 0.91666667, 0.91666667]),\n",
       " array([1.        , 0.91666667, 0.83333333, 0.91666667, 1.        ,\n",
       "        0.91666667, 1.        , 1.        , 0.91666667, 1.        ]),\n",
       " array([1.        , 0.91666667, 0.91666667, 0.91666667, 1.        ,\n",
       "        0.91666667, 1.        , 1.        , 0.91666667, 1.        ])]"
      ]
     },
     "execution_count": 10,
     "metadata": {},
     "output_type": "execute_result"
    }
   ],
   "source": [
    "results"
   ]
  },
  {
   "cell_type": "code",
   "execution_count": 11,
   "metadata": {
    "ExecuteTime": {
     "end_time": "2020-11-22T08:53:22.726213Z",
     "start_time": "2020-11-22T08:53:22.425528Z"
    }
   },
   "outputs": [
    {
     "data": {
      "image/png": "[encoded data removed]",
      "text/plain": [
       "<Figure size 432x288 with 1 Axes>"
      ]
     },
     "metadata": {
      "needs_background": "light"
     },
     "output_type": "display_data"
    }
   ],
   "source": [
    "# 箱线图比较算法准确率\n",
    "fig = pyplot.figure()\n",
    "fig.suptitle('Algorithm Comparsion of Accuracy - Iris')\n",
    "ax = fig.add_subplot(111)\n",
    "pyplot.boxplot(results)\n",
    "ax.set_xticklabels(models.keys())\n",
    "pyplot.savefig('./Algorithm Comparsion of Accuracy - Iris.png') # 保存图片\n",
    "pyplot.show()"
   ]
  },
  {
   "cell_type": "code",
   "execution_count": null,
   "metadata": {},
   "outputs": [],
   "source": []
  },
  {
   "cell_type": "code",
   "execution_count": null,
   "metadata": {},
   "outputs": [],
   "source": []
  }
 ],
 "metadata": {
  "kernelspec": {
   "display_name": "Python 3",
   "language": "python",
   "name": "python3"
  },
  "language_info": {
   "codemirror_mode": {
    "name": "ipython",
    "version": 3
   },
   "file_extension": ".py",
   "mimetype": "text/x-python",
   "name": "python",
   "nbconvert_exporter": "python",
   "pygments_lexer": "ipython3",
   "version": "3.6.12"
  },
  "toc": {
   "base_numbering": 1,
   "nav_menu": {},
   "number_sections": false,
   "sideBar": true,
   "skip_h1_title": false,
   "title_cell": "Table of Contents",
   "title_sidebar": "Contents",
   "toc_cell": false,
   "toc_position": {},
   "toc_section_display": true,
   "toc_window_display": false
  },
  "varInspector": {
   "cols": {
    "lenName": 16,
    "lenType": 16,
    "lenVar": 40
   },
   "kernels_config": {
    "python": {
     "delete_cmd_postfix": "",
     "delete_cmd_prefix": "del ",
     "library": "var_list.py",
     "varRefreshCmd": "print(var_dic_list())"
    },
    "r": {
     "delete_cmd_postfix": ") ",
     "delete_cmd_prefix": "rm(",
     "library": "var_list.r",
     "varRefreshCmd": "cat(var_dic_list()) "
    }
   },
   "types_to_exclude": [
    "module",
    "function",
    "builtin_function_or_method",
    "instance",
    "_Feature"
   ],
   "window_display": false
  }
 },
 "nbformat": 4,
 "nbformat_minor": 4
}
